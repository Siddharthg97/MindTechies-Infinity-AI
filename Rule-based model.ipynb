{
 "cells": [
  {
   "cell_type": "code",
   "execution_count": 79,
   "metadata": {},
   "outputs": [],
   "source": [
    "import pandas as pd\n",
    "import numpy as np\n"
   ]
  },
  {
   "cell_type": "code",
   "execution_count": 80,
   "metadata": {},
   "outputs": [],
   "source": [
    "df=pd.read_csv(\"Q2.csv\")\n",
    "df_q=pd.read_csv(\"Questionarre.csv\")"
   ]
  },
  {
   "cell_type": "code",
   "execution_count": 81,
   "metadata": {},
   "outputs": [
    {
     "data": {
      "text/html": [
       "<div>\n",
       "<style scoped>\n",
       "    .dataframe tbody tr th:only-of-type {\n",
       "        vertical-align: middle;\n",
       "    }\n",
       "\n",
       "    .dataframe tbody tr th {\n",
       "        vertical-align: top;\n",
       "    }\n",
       "\n",
       "    .dataframe thead th {\n",
       "        text-align: right;\n",
       "    }\n",
       "</style>\n",
       "<table border=\"1\" class=\"dataframe\">\n",
       "  <thead>\n",
       "    <tr style=\"text-align: right;\">\n",
       "      <th></th>\n",
       "      <th>Timestamp</th>\n",
       "      <th>Do you get pleasure in doing what you had always seen as interest ? For instance your hobbies like playing any sport, reading novel etc.</th>\n",
       "      <th>Do you feel down, depressed, or hopeless ? For instance, do you feel inactive or posses low confidence to perform daily activity</th>\n",
       "      <th>Do you feel trouble falling or staying asleep, or sleeping too much ?</th>\n",
       "      <th>What is present physical state? For instance do you feel tired or having little energy ?</th>\n",
       "      <th>What is present physical state? For instance do you feel tired or having little energy ?.1</th>\n",
       "      <th>Do you feel bad about yourself or that you are a failure or have let yourself or your family down ?</th>\n",
       "      <th>Are you Moving or speaking so slowly that other people could have noticed. Or the opposite being so figety or\\nrestless that you have been moving around a lot more\\nthan usual ?</th>\n",
       "    </tr>\n",
       "  </thead>\n",
       "  <tbody>\n",
       "    <tr>\n",
       "      <th>0</th>\n",
       "      <td>3/27/2025 19:59</td>\n",
       "      <td>Not at all</td>\n",
       "      <td>Not at all</td>\n",
       "      <td>Several days</td>\n",
       "      <td>Not at all</td>\n",
       "      <td>NaN</td>\n",
       "      <td>Not at all</td>\n",
       "      <td>Not at all</td>\n",
       "    </tr>\n",
       "    <tr>\n",
       "      <th>1</th>\n",
       "      <td>3/27/2025 20:00</td>\n",
       "      <td>Not at all</td>\n",
       "      <td>Not at all</td>\n",
       "      <td>More than half the days</td>\n",
       "      <td>Several days</td>\n",
       "      <td>More than half the days</td>\n",
       "      <td>Several days</td>\n",
       "      <td>More than half the days</td>\n",
       "    </tr>\n",
       "  </tbody>\n",
       "</table>\n",
       "</div>"
      ],
      "text/plain": [
       "         Timestamp  \\\n",
       "0  3/27/2025 19:59   \n",
       "1  3/27/2025 20:00   \n",
       "\n",
       "  Do you get pleasure in doing what you had always seen as interest ? For instance your hobbies like playing any sport, reading novel etc.  \\\n",
       "0                                         Not at all                                                                                         \n",
       "1                                         Not at all                                                                                         \n",
       "\n",
       "  Do you feel down, depressed, or hopeless ? For instance, do you feel inactive or posses low confidence to perform daily activity  \\\n",
       "0                                         Not at all                                                                                 \n",
       "1                                         Not at all                                                                                 \n",
       "\n",
       "  Do you feel trouble falling or staying asleep, or sleeping too much ?  \\\n",
       "0                                       Several days                      \n",
       "1                            More than half the days                      \n",
       "\n",
       "  What is present physical state? For instance do you feel tired or having little energy ?  \\\n",
       "0                                         Not at all                                         \n",
       "1                                       Several days                                         \n",
       "\n",
       "  What is present physical state? For instance do you feel tired or having little energy ?.1  \\\n",
       "0                                                NaN                                           \n",
       "1                            More than half the days                                           \n",
       "\n",
       "  Do you feel bad about yourself or that you are a failure or have let yourself or your family down ?  \\\n",
       "0                                         Not at all                                                    \n",
       "1                                       Several days                                                    \n",
       "\n",
       "  Are you Moving or speaking so slowly that other people could have noticed. Or the opposite being so figety or\\nrestless that you have been moving around a lot more\\nthan usual ?  \n",
       "0                                         Not at all                                                                                                                                 \n",
       "1                            More than half the days                                                                                                                                 "
      ]
     },
     "execution_count": 81,
     "metadata": {},
     "output_type": "execute_result"
    }
   ],
   "source": [
    "df"
   ]
  },
  {
   "cell_type": "code",
   "execution_count": 82,
   "metadata": {},
   "outputs": [],
   "source": [
    "df=df.T\n",
    "df=df.iloc[1:,df.shape[1]-1:df.shape[1]]\n"
   ]
  },
  {
   "cell_type": "code",
   "execution_count": 83,
   "metadata": {},
   "outputs": [
    {
     "data": {
      "text/html": [
       "<div>\n",
       "<style scoped>\n",
       "    .dataframe tbody tr th:only-of-type {\n",
       "        vertical-align: middle;\n",
       "    }\n",
       "\n",
       "    .dataframe tbody tr th {\n",
       "        vertical-align: top;\n",
       "    }\n",
       "\n",
       "    .dataframe thead th {\n",
       "        text-align: right;\n",
       "    }\n",
       "</style>\n",
       "<table border=\"1\" class=\"dataframe\">\n",
       "  <thead>\n",
       "    <tr style=\"text-align: right;\">\n",
       "      <th></th>\n",
       "      <th>1</th>\n",
       "    </tr>\n",
       "  </thead>\n",
       "  <tbody>\n",
       "    <tr>\n",
       "      <th>Do you get pleasure in doing what you had always seen as interest ? For instance your hobbies like playing any sport, reading novel etc.</th>\n",
       "      <td>Not at all</td>\n",
       "    </tr>\n",
       "    <tr>\n",
       "      <th>Do you feel down, depressed, or hopeless ? For instance, do you feel inactive or posses low confidence to perform daily activity</th>\n",
       "      <td>Not at all</td>\n",
       "    </tr>\n",
       "    <tr>\n",
       "      <th>Do you feel trouble falling or staying asleep, or sleeping too much ?</th>\n",
       "      <td>More than half the days</td>\n",
       "    </tr>\n",
       "    <tr>\n",
       "      <th>What is present physical state? For instance do you feel tired or having little energy ?</th>\n",
       "      <td>Several days</td>\n",
       "    </tr>\n",
       "    <tr>\n",
       "      <th>What is present physical state? For instance do you feel tired or having little energy ?.1</th>\n",
       "      <td>More than half the days</td>\n",
       "    </tr>\n",
       "    <tr>\n",
       "      <th>Do you feel bad about yourself or that you are a failure or have let yourself or your family down ?</th>\n",
       "      <td>Several days</td>\n",
       "    </tr>\n",
       "    <tr>\n",
       "      <th>Are you Moving or speaking so slowly that other people could have noticed. Or the opposite being so figety or\\nrestless that you have been moving around a lot more\\nthan usual ?</th>\n",
       "      <td>More than half the days</td>\n",
       "    </tr>\n",
       "  </tbody>\n",
       "</table>\n",
       "</div>"
      ],
      "text/plain": [
       "                                                                          1\n",
       "Do you get pleasure in doing what you had alway...               Not at all\n",
       "Do you feel down, depressed, or hopeless ? For ...               Not at all\n",
       "Do you feel trouble falling or staying asleep, ...  More than half the days\n",
       "What is present physical state? For instance do...             Several days\n",
       "What is present physical state? For instance do...  More than half the days\n",
       "Do you feel bad about yourself or that you are ...             Several days\n",
       "Are you Moving or speaking so slowly that other...  More than half the days"
      ]
     },
     "execution_count": 83,
     "metadata": {},
     "output_type": "execute_result"
    }
   ],
   "source": [
    "df"
   ]
  },
  {
   "cell_type": "code",
   "execution_count": 58,
   "metadata": {},
   "outputs": [],
   "source": [
    "df.reset_index(inplace=True)"
   ]
  },
  {
   "cell_type": "code",
   "execution_count": 59,
   "metadata": {},
   "outputs": [],
   "source": [
    "df=pd.DataFrame(df.values,columns=[\"Questions\",\"Answers\"])"
   ]
  },
  {
   "cell_type": "code",
   "execution_count": 60,
   "metadata": {},
   "outputs": [
    {
     "data": {
      "text/html": [
       "<div>\n",
       "<style scoped>\n",
       "    .dataframe tbody tr th:only-of-type {\n",
       "        vertical-align: middle;\n",
       "    }\n",
       "\n",
       "    .dataframe tbody tr th {\n",
       "        vertical-align: top;\n",
       "    }\n",
       "\n",
       "    .dataframe thead th {\n",
       "        text-align: right;\n",
       "    }\n",
       "</style>\n",
       "<table border=\"1\" class=\"dataframe\">\n",
       "  <thead>\n",
       "    <tr style=\"text-align: right;\">\n",
       "      <th></th>\n",
       "      <th>Questions</th>\n",
       "      <th>Answers</th>\n",
       "    </tr>\n",
       "  </thead>\n",
       "  <tbody>\n",
       "    <tr>\n",
       "      <th>0</th>\n",
       "      <td>Do you get pleasure in doing what you had alwa...</td>\n",
       "      <td>Not at all</td>\n",
       "    </tr>\n",
       "    <tr>\n",
       "      <th>1</th>\n",
       "      <td>Do you feel down, depressed, or hopeless ? For...</td>\n",
       "      <td>Not at all</td>\n",
       "    </tr>\n",
       "    <tr>\n",
       "      <th>2</th>\n",
       "      <td>Do you feel trouble falling or staying asleep,...</td>\n",
       "      <td>More than half the days</td>\n",
       "    </tr>\n",
       "    <tr>\n",
       "      <th>3</th>\n",
       "      <td>What is present physical state? For instance d...</td>\n",
       "      <td>Several days</td>\n",
       "    </tr>\n",
       "    <tr>\n",
       "      <th>4</th>\n",
       "      <td>What is present physical state? For instance d...</td>\n",
       "      <td>More than half the days</td>\n",
       "    </tr>\n",
       "    <tr>\n",
       "      <th>5</th>\n",
       "      <td>Do you feel bad about yourself or that you are...</td>\n",
       "      <td>Several days</td>\n",
       "    </tr>\n",
       "    <tr>\n",
       "      <th>6</th>\n",
       "      <td>Are you Moving or speaking so slowly that othe...</td>\n",
       "      <td>More than half the days</td>\n",
       "    </tr>\n",
       "  </tbody>\n",
       "</table>\n",
       "</div>"
      ],
      "text/plain": [
       "                                           Questions                  Answers\n",
       "0  Do you get pleasure in doing what you had alwa...               Not at all\n",
       "1  Do you feel down, depressed, or hopeless ? For...               Not at all\n",
       "2  Do you feel trouble falling or staying asleep,...  More than half the days\n",
       "3  What is present physical state? For instance d...             Several days\n",
       "4  What is present physical state? For instance d...  More than half the days\n",
       "5  Do you feel bad about yourself or that you are...             Several days\n",
       "6  Are you Moving or speaking so slowly that othe...  More than half the days"
      ]
     },
     "execution_count": 60,
     "metadata": {},
     "output_type": "execute_result"
    }
   ],
   "source": [
    "df"
   ]
  },
  {
   "cell_type": "code",
   "execution_count": 61,
   "metadata": {},
   "outputs": [],
   "source": [
    "mapping_dic={\"Not at all\":1,\"More than half the days\":3,\"Several days\":2,\"Nearly every day\":4}\n",
    "df[\"Encodings\"]=df[\"Answers\"].apply(lambda x: mapping_dic[x])"
   ]
  },
  {
   "cell_type": "code",
   "execution_count": 78,
   "metadata": {},
   "outputs": [
    {
     "data": {
      "text/plain": [
       "'Fear'"
      ]
     },
     "execution_count": 78,
     "metadata": {},
     "output_type": "execute_result"
    }
   ],
   "source": [
    "\n",
    "df_q=df_q.iloc[:22,:3]\n",
    "df_merge=pd.merge(df,df_q,on=\"Questions\", how=\"inner\")\n",
    "dfg= df_merge.groupby(\"Labels\")\n",
    "x=dfg.agg({\"Encodings\":\"mean\"}).values.flatten()\n",
    "df_ans=pd.DataFrame(x,columns=[\"answers\"])\n",
    "df_ans[\"labels\"]=dfg.groups.keys()\n",
    "score=df_ans.loc[df_ans[\"answers\"]==max(df_ans[\"answers\"]),\"labels\"].values[0]\n",
    "score"
   ]
  },
  {
   "cell_type": "code",
   "execution_count": null,
   "metadata": {},
   "outputs": [],
   "source": []
  },
  {
   "cell_type": "code",
   "execution_count": null,
   "metadata": {},
   "outputs": [],
   "source": [
    "\n"
   ]
  },
  {
   "cell_type": "code",
   "execution_count": null,
   "metadata": {},
   "outputs": [],
   "source": []
  },
  {
   "cell_type": "code",
   "execution_count": null,
   "metadata": {},
   "outputs": [],
   "source": []
  },
  {
   "cell_type": "code",
   "execution_count": null,
   "metadata": {},
   "outputs": [
    {
     "data": {
      "text/plain": [
       "'Fear'"
      ]
     },
     "execution_count": 77,
     "metadata": {},
     "output_type": "execute_result"
    }
   ],
   "source": [
    "df_ans\n"
   ]
  }
 ],
 "metadata": {
  "kernelspec": {
   "display_name": "Python 3",
   "language": "python",
   "name": "python3"
  },
  "language_info": {
   "codemirror_mode": {
    "name": "ipython",
    "version": 3
   },
   "file_extension": ".py",
   "mimetype": "text/x-python",
   "name": "python",
   "nbconvert_exporter": "python",
   "pygments_lexer": "ipython3",
   "version": "3.13.0"
  }
 },
 "nbformat": 4,
 "nbformat_minor": 2
}
