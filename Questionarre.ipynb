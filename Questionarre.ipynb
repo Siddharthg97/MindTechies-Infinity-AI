{
 "cells": [
  {
   "cell_type": "code",
   "execution_count": 1,
   "metadata": {},
   "outputs": [],
   "source": [
    "import pandas as pd\n",
    "import numpy as np"
   ]
  },
  {
   "cell_type": "code",
   "execution_count": 2,
   "metadata": {},
   "outputs": [],
   "source": [
    "df=pd.read_csv(\"Questionarre.csv\")"
   ]
  },
  {
   "cell_type": "code",
   "execution_count": 3,
   "metadata": {},
   "outputs": [
    {
     "data": {
      "text/html": [
       "<div>\n",
       "<style scoped>\n",
       "    .dataframe tbody tr th:only-of-type {\n",
       "        vertical-align: middle;\n",
       "    }\n",
       "\n",
       "    .dataframe tbody tr th {\n",
       "        vertical-align: top;\n",
       "    }\n",
       "\n",
       "    .dataframe thead th {\n",
       "        text-align: right;\n",
       "    }\n",
       "</style>\n",
       "<table border=\"1\" class=\"dataframe\">\n",
       "  <thead>\n",
       "    <tr style=\"text-align: right;\">\n",
       "      <th></th>\n",
       "      <th>Labels</th>\n",
       "      <th>Indication of state</th>\n",
       "      <th>Unnamed: 2</th>\n",
       "      <th>Questions</th>\n",
       "    </tr>\n",
       "  </thead>\n",
       "  <tbody>\n",
       "    <tr>\n",
       "      <th>16</th>\n",
       "      <td>Fear</td>\n",
       "      <td>NaN</td>\n",
       "      <td>Q16</td>\n",
       "      <td>Do you feel trouble falling or staying asleep,...</td>\n",
       "    </tr>\n",
       "    <tr>\n",
       "      <th>17</th>\n",
       "      <td>Surprise</td>\n",
       "      <td>NaN</td>\n",
       "      <td>Q17</td>\n",
       "      <td>How often have you experienced shock or surpri...</td>\n",
       "    </tr>\n",
       "    <tr>\n",
       "      <th>18</th>\n",
       "      <td>Surprise</td>\n",
       "      <td>NaN</td>\n",
       "      <td>Q18</td>\n",
       "      <td>How often have you felt completely surprised o...</td>\n",
       "    </tr>\n",
       "    <tr>\n",
       "      <th>19</th>\n",
       "      <td>Nuetral</td>\n",
       "      <td>NaN</td>\n",
       "      <td>Q19</td>\n",
       "      <td>How often have you felt emotionally neutral, n...</td>\n",
       "    </tr>\n",
       "    <tr>\n",
       "      <th>20</th>\n",
       "      <td>Nuetral</td>\n",
       "      <td>NaN</td>\n",
       "      <td>Q20</td>\n",
       "      <td>How often have you felt indifferent about situ...</td>\n",
       "    </tr>\n",
       "  </tbody>\n",
       "</table>\n",
       "</div>"
      ],
      "text/plain": [
       "      Labels Indication of state Unnamed: 2  \\\n",
       "16      Fear                 NaN        Q16   \n",
       "17  Surprise                 NaN        Q17   \n",
       "18  Surprise                 NaN        Q18   \n",
       "19   Nuetral                 NaN        Q19   \n",
       "20   Nuetral                 NaN        Q20   \n",
       "\n",
       "                                            Questions  \n",
       "16  Do you feel trouble falling or staying asleep,...  \n",
       "17  How often have you experienced shock or surpri...  \n",
       "18  How often have you felt completely surprised o...  \n",
       "19  How often have you felt emotionally neutral, n...  \n",
       "20  How often have you felt indifferent about situ...  "
      ]
     },
     "execution_count": 3,
     "metadata": {},
     "output_type": "execute_result"
    }
   ],
   "source": [
    "df=df.iloc[:22,:4]\n",
    "df.tail()\n"
   ]
  },
  {
   "cell_type": "code",
   "execution_count": null,
   "metadata": {},
   "outputs": [],
   "source": []
  },
  {
   "cell_type": "code",
   "execution_count": null,
   "metadata": {},
   "outputs": [],
   "source": []
  },
  {
   "cell_type": "code",
   "execution_count": null,
   "metadata": {},
   "outputs": [
    {
     "name": "stdout",
     "output_type": "stream",
     "text": [
      "Do you get pleaseure in doing what you had always seen as interest ? For instance your hobbies like playing any sport, reading novel etc. \n",
      "Chooses 1 among any of the following options:\n",
      " 1) Not at all \n",
      " 2) Several days \n",
      " 3) More than half the days \n",
      " 4) Nearly every day\n",
      "\n"
     ]
    }
   ],
   "source": [
    "answers=[]\n",
    "for i in df.index:\n",
    "    print(df.loc[i,\"Questions\"])\n",
    "    print(\"Chooses integer 1 among any of the following options:\\n 1) Not at all \\n 2) Several days \\n 3) More than half the days \\n 4) Nearly every day\\n\")\n",
    "    x=((input()))\n",
    "    answers.append(x)\n",
    "df[\"answers\"]=answers\n",
    "\n"
   ]
  },
  {
   "cell_type": "code",
   "execution_count": 11,
   "metadata": {},
   "outputs": [],
   "source": [
    "answers=[i for i in range(21)]"
   ]
  },
  {
   "cell_type": "code",
   "execution_count": 12,
   "metadata": {},
   "outputs": [],
   "source": [
    "df[\"answers\"]=answers\n"
   ]
  },
  {
   "cell_type": "code",
   "execution_count": 50,
   "metadata": {},
   "outputs": [],
   "source": [
    "dfg= df.groupby(\"Labels\")\n",
    "\n",
    "x=dfg.agg({\"answers\":\"mean\"}).values.flatten()\n",
    "x\n",
    "df_ans=pd.DataFrame(x,columns=[\"answers\"])"
   ]
  },
  {
   "cell_type": "code",
   "execution_count": 52,
   "metadata": {},
   "outputs": [],
   "source": [
    "df_ans[\"labels\"]=dfg.groups.keys()"
   ]
  },
  {
   "cell_type": "code",
   "execution_count": 64,
   "metadata": {},
   "outputs": [],
   "source": [
    "score=df_ans.loc[df_ans[\"answers\"]==max(df_ans[\"answers\"]),\"labels\"].values[0]"
   ]
  }
 ],
 "metadata": {
  "kernelspec": {
   "display_name": "Python 3",
   "language": "python",
   "name": "python3"
  },
  "language_info": {
   "codemirror_mode": {
    "name": "ipython",
    "version": 3
   },
   "file_extension": ".py",
   "mimetype": "text/x-python",
   "name": "python",
   "nbconvert_exporter": "python",
   "pygments_lexer": "ipython3",
   "version": "3.13.0"
  }
 },
 "nbformat": 4,
 "nbformat_minor": 2
}
